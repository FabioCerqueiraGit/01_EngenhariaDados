{
 "cells": [
  {
   "cell_type": "code",
   "execution_count": null,
   "metadata": {
    "vscode": {
     "languageId": "plaintext"
    }
   },
   "outputs": [],
   "source": [
    "from tweepy import API, OAuthHandler\n",
    "\n",
    "# Configurações da API do Twitter\n",
    "consumer_key = \"SUA_CONSUMER_KEY\"\n",
    "consumer_secret = \"SUA_CONSUMER_SECRET\"\n",
    "access_token = \"SEU_ACCESS_TOKEN\"\n",
    "access_token_secret = \"SEU_ACCESS_TOKEN_SECRET\"\n",
    "\n",
    "# Autenticação\n",
    "auth = OAuthHandler(consumer_key, consumer_secret)\n",
    "auth.set_access_token(access_token, access_token_secret)\n",
    "api = API(auth)\n",
    "\n",
    "# Extrair tweets\n",
    "tweets = api.search(q=\"databricks\", lang=\"pt\", count=100)\n",
    "\n",
    "# Salvar em JSON\n",
    "import json\n",
    "with open(\"data/raw/tweets_raw.json\", \"w\") as f:\n",
    "    json.dump([tweet._json for tweet in tweets], f)"
   ]
  }
 ],
 "metadata": {
  "language_info": {
   "name": "python"
  }
 },
 "nbformat": 4,
 "nbformat_minor": 2
}
