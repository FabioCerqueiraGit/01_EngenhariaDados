{
 "cells": [
  {
   "cell_type": "code",
   "execution_count": null,
   "metadata": {
    "vscode": {
     "languageId": "plaintext"
    }
   },
   "outputs": [],
   "source": [
    "from pyspark.sql import SparkSession\n",
    "from pyspark.sql.functions import udf\n",
    "from pyspark.sql.types import StringType\n",
    "import re\n",
    "\n",
    "# Iniciar sessão Spark\n",
    "spark = SparkSession.builder.appName(\"PreprocessamentoTweets\").getOrCreate()\n",
    "\n",
    "# Carregar dados\n",
    "df = spark.read.json(\"data/raw/tweets_raw.json\")\n",
    "\n",
    "# Função para limpar texto\n",
    "def clean_text(text):\n",
    "    text = re.sub(r\"http\\S+\", \"\", text)  # Remove URLs\n",
    "    text = re.sub(r\"@\\w+\", \"\", text)     # Remove menções\n",
    "    text = re.sub(r\"#\\w+\", \"\", text)     # Remove hashtags\n",
    "    text = re.sub(r\"[^\\w\\s]\", \"\", text)  # Remove pontuação\n",
    "    return text.strip()\n",
    "\n",
    "# Aplicar limpeza\n",
    "clean_text_udf = udf(clean_text, StringType())\n",
    "df = df.withColumn(\"clean_text\", clean_text_udf(df[\"text\"]))\n",
    "\n",
    "# Salvar dados processados\n",
    "df.write.parquet(\"data/processed/tweets_processed.parquet\")"
   ]
  }
 ],
 "metadata": {
  "language_info": {
   "name": "python"
  }
 },
 "nbformat": 4,
 "nbformat_minor": 2
}
