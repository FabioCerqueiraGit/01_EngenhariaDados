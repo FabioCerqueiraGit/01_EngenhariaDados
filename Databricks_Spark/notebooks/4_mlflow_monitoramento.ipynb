{
 "cells": [
  {
   "cell_type": "code",
   "execution_count": null,
   "metadata": {
    "vscode": {
     "languageId": "plaintext"
    }
   },
   "outputs": [],
   "source": [
    "import mlflow\n",
    "import mlflow.spark\n",
    "\n",
    "# Iniciar experimento MLflow\n",
    "mlflow.set_experiment(\"AnaliseSentimentos\")\n",
    "\n",
    "# Log do modelo\n",
    "with mlflow.start_run():\n",
    "    mlflow.spark.log_model(model, \"sentiment_model\")\n",
    "    mlflow.log_param(\"algorithm\", \"LogisticRegression\")\n",
    "    mlflow.log_metric(\"accuracy\", 0.85)  # Exemplo de métrica"
   ]
  }
 ],
 "metadata": {
  "language_info": {
   "name": "python"
  }
 },
 "nbformat": 4,
 "nbformat_minor": 2
}
